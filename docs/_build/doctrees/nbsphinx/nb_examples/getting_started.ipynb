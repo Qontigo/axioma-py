{
 "cells": [
  {
   "cell_type": "markdown",
   "metadata": {},
   "source": [
    "# Getting Started with axiomapy\n",
    "\n",
    "While there are various samples that go into further details on specific topics the \n",
    "following guide is intended as a starting point to explore a few basic operations and\n",
    "gain some familiarity with the package.\n"
   ]
  },
  {
   "cell_type": "markdown",
   "metadata": {},
   "source": [
    "## Imports\n",
    "\n",
    "\n",
    "\n",
    "### Logging\n",
    "\n",
    "The standard logging library is used to log from within the package. \n",
    "In order to see the logging statements you must add at least one handler.\n",
    "In this case we will just log to the stdout. The level will be info.\n",
    "The following statement sets the default config for the logging. "
   ]
  },
  {
   "cell_type": "code",
   "execution_count": null,
   "metadata": {},
   "outputs": [],
   "source": [
    "import logging\n",
    "\n",
    "logging.basicConfig(\n",
    "    level=logging.INFO, \n",
    "    format=r'%(asctime)s %(levelname)-8s %(message)s', \n",
    "    datefmt='%Y-%m-%d %H:%M:%S'\n",
    ")"
   ]
  },
  {
   "cell_type": "markdown",
   "metadata": {},
   "source": [
    "### Other common imports\n",
    "\n",
    "While you may leverage many packages in your projects the following are used \n",
    "here and in the examples."
   ]
  },
  {
   "cell_type": "code",
   "execution_count": null,
   "metadata": {},
   "outputs": [],
   "source": [
    "from datetime import datetime\n",
    "import pandas as pd\n",
    "from io import StringIO"
   ]
  },
  {
   "cell_type": "markdown",
   "metadata": {},
   "source": [
    "### Importing from axiomapy\n",
    "\n",
    "The following shows some of the most common imports from axiomapy, \n",
    "however, not all will be explicitly needed.\n",
    "\n",
    "At the root of the package there are some core class but always required is the \n",
    "Session manager AxiomaSession.\n",
    "The AxiomaSession will handle connecting to the Axioma API and any http requests.\n",
    "\n",
    "The package is organised much like the rest api.\n",
    "\n",
    "In general the necessary enumerations and associated datamodel classes \n",
    " are accessed from the 'parent' package (e.g. Enums can be accessed from \n",
    " axiomapy.axiomaapi.enums)\n",
    "\n",
    "\n",
    "A side note on collections:\n",
    "Most server resources are returned as a set of items based on the oData filters.\n",
    "Mapping (when their is a unique key) or Sequence classes are available to represent \n",
    "these sets. As an example there is Portfolio and Portfolios.\n",
    "A list can be passed instead of a mapping/sequence class and a mapping/sequence where\n",
    "relevant. The advantage of the mapping classes is that they have methods to \n",
    "help manage the set of underlying instances. However, they all offer a to_list() if you \n",
    "prefer to work with a list if the items.\n",
    " \n",
    " \n",
    "\n"
   ]
  },
  {
   "cell_type": "code",
   "execution_count": null,
   "metadata": {},
   "outputs": [],
   "source": [
    "from axiomapy import AxiomaSession"
   ]
  },
  {
   "cell_type": "markdown",
   "metadata": {},
   "source": [
    "Portfolio related imports"
   ]
  },
  {
   "cell_type": "code",
   "execution_count": null,
   "metadata": {},
   "outputs": [],
   "source": [
    "from axiomapy.axiomaapi import PortfolioGroupsAPI, PortfoliosAPI"
   ]
  },
  {
   "cell_type": "markdown",
   "metadata": {},
   "source": [
    "Imports related to running risk analyses on a portfolio or collection of positions"
   ]
  },
  {
   "cell_type": "code",
   "execution_count": null,
   "metadata": {},
   "outputs": [],
   "source": [
    "from axiomapy.axiomaapi import AnalysisDefinitionAPI, RiskModelDefinitionsAPI, AnalysesRiskAPI"
   ]
  },
  {
   "cell_type": "markdown",
   "metadata": {},
   "source": [
    "Other Imports related to getting templates and entities"
   ]
  },
  {
   "cell_type": "code",
   "execution_count": null,
   "metadata": {},
   "outputs": [],
   "source": [
    "from axiomapy.axiomaapi import MetaDataAPI, TemplatesAPI, EntitiesAPI\n",
    "from axiomapy.odatahelpers import oDataFilterHelper as od\n",
    "from axiomapy.axiomaapi import enums\n",
    "from axiomapy import axiomaexceptions\n",
    "from axiomapy.session import APIType"
   ]
  },
  {
   "cell_type": "markdown",
   "metadata": {},
   "source": [
    "## Logging in\n",
    "\n",
    "A session is created, authenticated and set as the current session\n",
    "used for any http requests made via the package.\n",
    "\n",
    "Update the credentials and run the command below:"
   ]
  },
  {
   "cell_type": "code",
   "execution_count": null,
   "metadata": {},
   "outputs": [],
   "source": [
    "# For testing load up some credentials\n",
    "from load_credentials import get_user\n",
    "user1 =  get_user('user1')"
   ]
  },
  {
   "cell_type": "code",
   "execution_count": null,
   "metadata": {},
   "outputs": [],
   "source": [
    "# replace the user1['xx'] with your credentials\n",
    "AxiomaSession.use_session(\n",
    "    username=user1['username'],\n",
    "    password=user1['password'],\n",
    "    domain=user1['domain']\n",
    ")"
   ]
  },
  {
   "cell_type": "markdown",
   "metadata": {},
   "source": [
    "The users can still pass client id, if they wish to use a specific client id"
   ]
  },
  {
   "cell_type": "code",
   "execution_count": null,
   "metadata": {},
   "outputs": [],
   "source": [
    "# replace the user1['xx'] with your credentials\n",
    "AxiomaSession.use_session(\n",
    "    username=user1['username'],\n",
    "    password=user1['password'],\n",
    "    domain=user1['domain'],\n",
    "    client_id=user1['client_id']\n",
    ")"
   ]
  },
  {
   "cell_type": "markdown",
   "metadata": {},
   "source": [
    "## Find portfolios using oData filters\n",
    "\n",
    "Return the set of portfolios into a mapping collection (keyed on portfolio name).\n",
    "OData parameters can be used to control the set of portfolios returned.\n",
    "There are some helpers to assist with basic filter syntax.\n",
    "\n",
    "Here the first 5 portfolios are returned that have:\n",
    "* long_name contains \"US\" and does not start with \"Test\" and, \n",
    "* the latest position date field is null (i.e. no positions are loaded) and,\n",
    "* default currency in the set \"USD\", \"GBP\" or default data partition is AxiomaUS\n",
    "\n",
    "The helper will also camelize field names by default."
   ]
  },
  {
   "cell_type": "code",
   "execution_count": null,
   "metadata": {},
   "outputs": [],
   "source": [
    "# Create a set of filters using the helpers to\n",
    "filters = [\n",
    "    od.contains(\"long_name\", \"US\"),\n",
    "    'and not',\n",
    "    od.starts_with(\"longName\", \"Test\"),\n",
    "    'and',\n",
    "    od.equals(\"latestPositionDate\", None),\n",
    "    'and (',\n",
    "    od.in_(\"default_currency\", \"USD\", \"GBP\"),\n",
    "    'or',\n",
    "    od.equals(\"defaultDataPartition\", \"AxiomaUS\"),\n",
    "    \")\"\n",
    "]\n",
    "\n",
    "filter_ = \" \".join(filters)\n",
    "\n",
    "print(filter_)\n",
    "\n",
    "ptfs = PortfoliosAPI.get_portfolios(filter_results=filter_ , top=5)\n",
    "\n",
    "# show the names of the portfolios found\n",
    "print(ptfs.json())"
   ]
  },
  {
   "cell_type": "markdown",
   "metadata": {},
   "source": [
    "## Create a portfolio and check for a portfolio"
   ]
  },
  {
   "cell_type": "markdown",
   "metadata": {},
   "source": [
    "Create a portfolio if it doesnt exist already"
   ]
  },
  {
   "cell_type": "code",
   "execution_count": null,
   "metadata": {},
   "outputs": [],
   "source": [
    "test_portfolio = {\n",
    "    \"name\": \"Test_Portfolio\",\n",
    "    \"longName\": \"My Test Portfolio\",\n",
    "    \"defaultCurrency\": \"USD\",\n",
    "}\n",
    "\n",
    "try:\n",
    "    r = PortfoliosAPI.post_portfolio(portfolio=test_portfolio)\n",
    "    pId = int(r.headers[\"location\"].split(\"/\")[-1])\n",
    "except (axiomaexceptions.AxiomaRequestError, axiomaexceptions.AxiomaRequestValidationError, axiomaexceptions.AxiomaRequestStatusError):\n",
    "    filters = [\n",
    "        od.equals(\"name\", \"Test_Portfolio\")\n",
    "    ]\n",
    "    filter_ = \" \".join(filters)\n",
    "    ptfs = PortfoliosAPI.get_portfolios(filter_results=filter_)\n",
    "    pId = ptfs.json()['items'][0]['id']\n",
    "\n",
    "    print (pId)"
   ]
  },
  {
   "cell_type": "markdown",
   "metadata": {},
   "source": [
    "Once the portfolio is created, check for the portfolio with portfolio id. If the portfolio already exists, you can directly query for it."
   ]
  },
  {
   "cell_type": "code",
   "execution_count": null,
   "metadata": {},
   "outputs": [],
   "source": [
    "my_ptf = PortfoliosAPI.get_portfolio(portfolio_id=pId)"
   ]
  },
  {
   "cell_type": "markdown",
   "metadata": {},
   "source": [
    "## Create some positions\n",
    "\n",
    "### Define the positions\n",
    "In this case we will use a list of positions to update the portfolio.\n",
    "As can be seen below any api defaults can be leveraged to avoid specifying all arguments (e.g. the default quantity type is Units). "
   ]
  },
  {
   "cell_type": "code",
   "execution_count": null,
   "metadata": {},
   "outputs": [],
   "source": [
    "patch_position = [{\"clientId\": \"514431\",\n",
    "                   \"identifiers\": [{\"type\": \"ISIN\", \"value\": \"US5949181045\"}, {\"type\": \"Ticker\", \"value\": \"MSFT UN EQUITY\"}],\n",
    "                   \"quantity\": {\"value\": 6288458702.57133,\n",
    "                                \"scale\": \"MarketValue\"},\n",
    "                   \"instrumentMapping\": \"Default\"},\n",
    "                  {\"clientId\": \"514453\",\n",
    "                   \"identifiers\": [{\"type\": \"ISIN\", \"value\": \"US0378331005\"}, {\"type\": \"Ticker\", \"value\": \"AAPL UN EQUITY\"}],\n",
    "                   \"quantity\": {\"value\": 32440128549.5337,\n",
    "                                \"scale\": \"MarketValue\"},\n",
    "                   \"instrumentMapping\": \"Default\"}]"
   ]
  },
  {
   "cell_type": "markdown",
   "metadata": {},
   "source": [
    "### Add them to the portfolio\n",
    "\n",
    "\n",
    "First check if there are positions. This is not necessary but illustrates use of the AsOfDate type which can be compared with a data directly\n"
   ]
  },
  {
   "cell_type": "code",
   "execution_count": null,
   "metadata": {},
   "outputs": [],
   "source": [
    "date_to_load_positions = \"2020-12-01\" # or can use the datetime type\n",
    "\n",
    "# returns a list of PositionAsOfDate\n",
    "position_dates_resp = PortfoliosAPI.get_position_dates(portfolio_id=pId)\n",
    "\n",
    "position_dates = position_dates_resp.json()\n",
    "\n",
    "# the position dates returns a list of AsOfDates instances allows direct comparison with a date string or datetime\n",
    "print(f\"The portfolio has positions on the date to load: {date_to_load_positions in [i['asOfDate'] for i in position_dates['items']]}\")\n",
    "\n",
    "if date_to_load_positions in [i['asOfDate'] for i in position_dates['items']]:\n",
    "    PortfoliosAPI.delete_positions(portfolio_id=pId, as_of_date=date_to_load_positions)"
   ]
  },
  {
   "cell_type": "code",
   "execution_count": null,
   "metadata": {},
   "outputs": [],
   "source": [
    "patch = PortfoliosAPI.patch_positions(as_of_date=date_to_load_positions, portfolio_id=pId, positions_upsert=patch_position,\n",
    "                              positions_remove=[])"
   ]
  },
  {
   "cell_type": "markdown",
   "metadata": {},
   "source": [
    "The patch response makes it easier to identify errors and find the corresponding position records.\n",
    "See the documentation for furhter information"
   ]
  },
  {
   "cell_type": "code",
   "execution_count": null,
   "metadata": {},
   "outputs": [],
   "source": [
    "print(f\"The patch request response: {patch.response}\")"
   ]
  },
  {
   "cell_type": "markdown",
   "metadata": {},
   "source": [
    "Check again the dates"
   ]
  },
  {
   "cell_type": "code",
   "execution_count": null,
   "metadata": {},
   "outputs": [],
   "source": [
    "position_dates = PortfoliosAPI.get_position_dates(portfolio_id=pId)\n",
    "position_dates.json()"
   ]
  },
  {
   "cell_type": "markdown",
   "metadata": {},
   "source": [
    "## Search for views\n",
    "\n",
    "A view can exist in a shared folder or be private so will have a team or owner property but not both.\n",
    "\n",
    "In order to help find views there is a filter helper that can be used to help build the filter string correctly.\n",
    "Clearly the filter can be constructed without the helper if prefered."
   ]
  },
  {
   "cell_type": "code",
   "execution_count": null,
   "metadata": {},
   "outputs": [],
   "source": [
    "# All views in team Axioma Standard Views where name contains 'Coverage'\n",
    "filters = [\n",
    "    od.contains(\"name\", \"Coverage\"),\n",
    "    'and (',\n",
    "    od.equals(\"team\", \"Axioma Standard Views\"),\n",
    "    \")\"\n",
    "]\n",
    "\n",
    "filter_ = \" \".join(filters)\n",
    "definition_names = AnalysisDefinitionAPI.get_analysis_definitions(filter_results=filter_)\n",
    "\n",
    "# Get top 5 results from the above filter\n",
    "defs = AnalysisDefinitionAPI.get_analysis_definitions(filter_results=filter_, top=5)\n",
    "\n",
    "defs.json()\n",
    "\n",
    "analysis_id = defs.json()['items'][0]['id']\n"
   ]
  },
  {
   "cell_type": "markdown",
   "metadata": {},
   "source": [
    "## Run a risk analysis\n",
    "\n",
    "\n",
    "\n",
    "Risk parameters are set to define the risk analysis task settings.\n",
    "\n",
    "Any arguments not set will take the defaults of the API (i.e. no value will be passed in the request) \n"
   ]
  },
  {
   "cell_type": "code",
   "execution_count": null,
   "metadata": {},
   "outputs": [],
   "source": [
    "risk_param = {\n",
    "    \"analysisDate\": date_to_load_positions, \n",
    "    \"positionDate\": date_to_load_positions, \n",
    "    \"aggregationOptions\": {\n",
    "    \"aggregate\": \"OnCompletion\",\n",
    "    \"compute\": enums.ComputeOption.MissingOnly\n",
    "  },\n",
    "    \"analysisDefinition\": {\n",
    "    \"id\": analysis_id\n",
    "  }\n",
    "}"
   ]
  },
  {
   "cell_type": "markdown",
   "metadata": {},
   "source": [
    "### Run a portfolio analysis\n",
    "\n",
    "The request can be submitted using AnalysesRiskAPI.\n",
    "\n",
    "The response header will include the request id which can be used for further requests."
   ]
  },
  {
   "cell_type": "code",
   "execution_count": null,
   "metadata": {},
   "outputs": [],
   "source": [
    "ra = AnalysesRiskAPI.post_portfolio_analyses(portfolio_id=pId,analyses_parameters=risk_param,return_response=True)\n",
    "\n",
    "requestId = int(ra.headers[\"location\"].split(\"/\")[-1])"
   ]
  },
  {
   "cell_type": "markdown",
   "metadata": {},
   "source": [
    "Once the request is submitted, the user can check when the task is completed by requesting for the status by using the request id."
   ]
  },
  {
   "cell_type": "code",
   "execution_count": null,
   "metadata": {},
   "outputs": [],
   "source": [
    "status = AnalysesRiskAPI.get_analyses_status(request_id=requestId)"
   ]
  },
  {
   "cell_type": "markdown",
   "metadata": {},
   "source": [
    "The analyses status is a type and has properties to be accessed."
   ]
  },
  {
   "cell_type": "code",
   "execution_count": null,
   "metadata": {},
   "outputs": [],
   "source": [
    "status.status_code\n",
    "status.content"
   ]
  },
  {
   "cell_type": "markdown",
   "metadata": {},
   "source": [
    "#### Access the logs and results"
   ]
  },
  {
   "cell_type": "markdown",
   "metadata": {},
   "source": [
    "The logs can be accessed in json format"
   ]
  },
  {
   "cell_type": "code",
   "execution_count": null,
   "metadata": {},
   "outputs": [],
   "source": [
    "logs = AnalysesRiskAPI.get_analyses_log(requestId)\n",
    "\n",
    "print(logs.json())"
   ]
  },
  {
   "cell_type": "markdown",
   "metadata": {},
   "source": [
    "The results can be accessed in json format"
   ]
  },
  {
   "cell_type": "code",
   "execution_count": null,
   "metadata": {},
   "outputs": [],
   "source": [
    "results = AnalysesRiskAPI.get_analyses(requestId).json()\n",
    "print(results)"
   ]
  },
  {
   "cell_type": "markdown",
   "metadata": {},
   "source": [
    "The results can also be fetched in csv format"
   ]
  },
  {
   "cell_type": "code",
   "execution_count": null,
   "metadata": {},
   "outputs": [],
   "source": [
    "results = AnalysesRiskAPI.get_analyses(requestId, as_csv=True).text\n",
    "print(results)\n",
    "df = pd.read_csv(StringIO(results), delimiter=',')\n",
    "df"
   ]
  },
  {
   "cell_type": "markdown",
   "metadata": {},
   "source": [
    "### Search for Entities\n",
    "\n",
    "To look for a particular entity, search using either the type of entity or using the odata filters."
   ]
  },
  {
   "cell_type": "code",
   "execution_count": null,
   "metadata": {},
   "outputs": [],
   "source": [
    "filters = [\n",
    "    od.contains(\"name\", \"PA-MAC-Global-USD\")\n",
    "]\n",
    "\n",
    "filter_ = \" \".join(filters)\n",
    "\n",
    "entities = EntitiesAPI.get_entities(typeName1='PerformanceAttributionSettings')\n",
    "\n",
    "entities = EntitiesAPI.get_entities(typeName1='PerformanceAttributionSettings', filter_results=filters)\n",
    "\n",
    "entities.json()['items']"
   ]
  },
  {
   "cell_type": "markdown",
   "metadata": {},
   "source": [
    "## Clean up\n",
    "\n",
    "If required the user can delete the portfolio by passing the portfolio id as param to the request"
   ]
  },
  {
   "cell_type": "code",
   "execution_count": null,
   "metadata": {},
   "outputs": [],
   "source": [
    "PortfoliosAPI.delete_portfolio(pId)"
   ]
  },
  {
   "cell_type": "markdown",
   "metadata": {},
   "source": [
    "Close the session"
   ]
  },
  {
   "cell_type": "code",
   "execution_count": null,
   "metadata": {},
   "outputs": [],
   "source": [
    "AxiomaSession.current.close()"
   ]
  },
  {
   "cell_type": "markdown",
   "metadata": {},
   "source": [
    "## Logging in for Bulk Session"
   ]
  },
  {
   "cell_type": "markdown",
   "metadata": {},
   "source": [
    "In order to create a session for Bulk flows, the user needs to pass BULK in the api type."
   ]
  },
  {
   "cell_type": "code",
   "execution_count": null,
   "metadata": {},
   "outputs": [],
   "source": [
    "AxiomaSession.use_session(\n",
    "    username=user1['username'],\n",
    "    password=user1['password'],\n",
    "    domain=user1['domain'],\n",
    "    api_type=\"BULK\"\n",
    ")"
   ]
  },
  {
   "cell_type": "markdown",
   "metadata": {},
   "source": [
    "In order to create a session for CEB workflows, the user needs to pass CEB in the api type."
   ]
  },
  {
   "cell_type": "code",
   "execution_count": null,
   "metadata": {},
   "outputs": [],
   "source": [
    "AxiomaSession.use_session(\n",
    "    username=user1['username'],\n",
    "    password=user1['password'],\n",
    "    domain=user1['domain'],\n",
    "    api_type=APIType.CEB\n",
    ")"
   ]
  }
 ],
 "metadata": {
  "language_info": {
   "name": "python"
  }
 },
 "nbformat": 4,
 "nbformat_minor": 4
}
