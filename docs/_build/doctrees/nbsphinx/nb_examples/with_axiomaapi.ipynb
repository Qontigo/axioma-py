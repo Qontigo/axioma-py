{
 "cells": [
  {
   "cell_type": "markdown",
   "metadata": {},
   "source": [
    "# AxiomaPy Direct Access\n",
    "\n",
    "\n",
    "All API access is managed through a series of modules and classes using the active session.\n",
    "\n",
    "In some cases direct API access may be preferred or necessary.  \n",
    "The following examples show how to access the api classes and perform some actions on portfolios.\n"
   ]
  },
  {
   "cell_type": "markdown",
   "metadata": {},
   "source": [
    "## Imports\n",
    "\n",
    "The axiomapy imports.\n",
    "Each 'section' of the API is available to import from the axiomaapi package."
   ]
  },
  {
   "cell_type": "code",
   "execution_count": null,
   "metadata": {},
   "outputs": [],
   "source": [
    "from axiomapy import AxiomaSession, AxiomaResponse\n",
    "from axiomapy.axiomaapi import (\n",
    "    PortfoliosAPI,\n",
    "    AnalysesPerformanceAPI,\n",
    "    AnalysesRiskAPI,\n",
    "    ClientEventBusAPI\n",
    ")\n"
   ]
  },
  {
   "cell_type": "markdown",
   "metadata": {},
   "source": [
    "Some other imports"
   ]
  },
  {
   "cell_type": "code",
   "execution_count": null,
   "metadata": {},
   "outputs": [],
   "source": [
    "from pprint import pprint\n",
    "from datetime import datetime, timedelta\n",
    "import logging\n",
    "from axiomapy.session import APIType"
   ]
  },
  {
   "cell_type": "code",
   "execution_count": null,
   "metadata": {},
   "outputs": [],
   "source": [
    "logging.basicConfig(level=logging.INFO, \n",
    "                    format='%(asctime)s %(levelname)-8s %(message)s', \n",
    "                    datefmt='%Y-%m-%d %H:%M:%S')"
   ]
  },
  {
   "cell_type": "markdown",
   "metadata": {},
   "source": [
    "## Credentials and Creating an Active Sesssion\n",
    "Load up some credentials to work with (there is a sample.credentials.json in the ./examples/credentials folder, copy this file to credentials.json and update. Alternatively skip the next set of code and set the credentials directly when creating the session):"
   ]
  },
  {
   "cell_type": "code",
   "execution_count": null,
   "metadata": {},
   "outputs": [],
   "source": [
    "from axiomapy.examples.load_credentials import get_user\n",
    "user1 =  get_user('user1')"
   ]
  },
  {
   "cell_type": "code",
   "execution_count": null,
   "metadata": {},
   "outputs": [],
   "source": [
    "# if the credentials json is not used enter credentials directly below:\n",
    "AxiomaSession.use_session(user1['client_id'], user1['username'], user1['password'], user1['domain'], application_name='With analyses examples connection' )\n",
    "# test the connection\n",
    "me = AxiomaSession.current.test()"
   ]
  },
  {
   "cell_type": "markdown",
   "metadata": {},
   "source": [
    "## Get a list of portfolios"
   ]
  },
  {
   "cell_type": "code",
   "execution_count": null,
   "metadata": {},
   "outputs": [],
   "source": [
    "portfolios_response = PortfoliosAPI.get_portfolios(top=10)\n"
   ]
  },
  {
   "cell_type": "markdown",
   "metadata": {},
   "source": [
    "The response object contains subsets of the original response"
   ]
  },
  {
   "cell_type": "code",
   "execution_count": null,
   "metadata": {},
   "outputs": [],
   "source": [
    "print(f\"Returned type is {type(portfolios_response)}\")"
   ]
  },
  {
   "cell_type": "code",
   "execution_count": null,
   "metadata": {},
   "outputs": [],
   "source": [
    "pprint(portfolios_response.json())"
   ]
  },
  {
   "cell_type": "markdown",
   "metadata": {},
   "source": [
    "you can still access the original response"
   ]
  },
  {
   "cell_type": "code",
   "execution_count": null,
   "metadata": {},
   "outputs": [],
   "source": [
    "original_response = portfolios_response.response"
   ]
  },
  {
   "cell_type": "markdown",
   "metadata": {},
   "source": [
    "However, the original reponse can be requested"
   ]
  },
  {
   "cell_type": "code",
   "execution_count": null,
   "metadata": {},
   "outputs": [],
   "source": [
    "response = PortfoliosAPI.get_portfolios(top=10, return_response=True)\n",
    "\n",
    "print(f\"The returned type is {type(response)}\")\n",
    "\n",
    "print(f\"Access the original request url info {response.request.url}\")"
   ]
  },
  {
   "cell_type": "markdown",
   "metadata": {},
   "source": [
    "## Performance Attribution Request\n",
    "\n",
    "A Performance attribution request is to analyse the performance of a portfolio during given dates"
   ]
  },
  {
   "cell_type": "markdown",
   "metadata": {},
   "source": [
    "A pre-step to main PA task is to starts a job to pre-calculate the analytics results that form the inputs to performance attribution."
   ]
  },
  {
   "cell_type": "code",
   "execution_count": null,
   "metadata": {},
   "outputs": [],
   "source": [
    "precompute_param = {\n",
    "    \"asOfDate\": \"2021-03-31\", \n",
    "    \"benchmark\": {\"useNoBenchmark\": True}, \n",
    "    \"performanceAttributionSettingsId\": 2136463,\n",
    "    \"computingBehavior\":\"MissingOnly\"\n",
    "}"
   ]
  },
  {
   "cell_type": "code",
   "execution_count": null,
   "metadata": {},
   "outputs": [],
   "source": [
    "analyses_test = AnalysesPerformanceAPI.post_precompute(portfolio_id=123330, precompute_parameters=precompute_param)"
   ]
  },
  {
   "cell_type": "markdown",
   "metadata": {},
   "source": [
    "Once precompute is done for all the dates for which PA task has to be performed, the PA task can be triggered.\n",
    "\n",
    "The PA task body accepts the start and end dates for PA along with the Performance Attribution settings ID"
   ]
  },
  {
   "cell_type": "code",
   "execution_count": null,
   "metadata": {},
   "outputs": [],
   "source": [
    "pa_params = {\n",
    "    \"startDate\": \"2021-03-30\", \n",
    "    \"endDate\": \"2021-03-31\",\n",
    "    \"benchmark\": {\"useNoBenchmark\": True}, \n",
    "    \"performanceAttributionSettingsId\": 2136463,\n",
    "    \"computingBehavior\":\"MissingOnly\"\n",
    "}"
   ]
  },
  {
   "cell_type": "markdown",
   "metadata": {},
   "source": [
    "The header of the response to the request consists of the request id which is used in further requests"
   ]
  },
  {
   "cell_type": "code",
   "execution_count": null,
   "metadata": {},
   "outputs": [],
   "source": [
    "pa_task = AnalysesPerformanceAPI.post_performance_analysis(portfolio_id=123330, analyses_parameters=pa_params)\n",
    "requestId = int(pa_task.headers[\"location\"].split(\"/\")[-2])"
   ]
  },
  {
   "cell_type": "markdown",
   "metadata": {},
   "source": [
    "The status of the request and logs can be attained using the request id"
   ]
  },
  {
   "cell_type": "code",
   "execution_count": null,
   "metadata": {},
   "outputs": [],
   "source": [
    "status = AnalysesPerformanceAPI.get_status(request_id=requestId)\n",
    "logs = AnalysesPerformanceAPI.get_logs(request_id=requestId)"
   ]
  },
  {
   "cell_type": "markdown",
   "metadata": {},
   "source": [
    "## Risk Model Service\n",
    "\n",
    "The Risk Model Service is helpful in generating Risk Model based on the exposures of a portfolio or list of instruments. It can also be used to output factor returns for a given portfolio or list of instruments."
   ]
  },
  {
   "cell_type": "markdown",
   "metadata": {},
   "source": [
    "Create a request with the desired parameters: portfolio or instruments; risk model definition and statistic definition"
   ]
  },
  {
   "cell_type": "code",
   "execution_count": null,
   "metadata": {},
   "outputs": [],
   "source": [
    "rms_parameters = {\n",
    "  'portfolioId': 123442,\n",
    "  'analysisDate': '2020-09-15',\n",
    "  'riskModelDefinitionId': 3707082\n",
    "}"
   ]
  },
  {
   "cell_type": "markdown",
   "metadata": {},
   "source": [
    "The header of the response to the request consists of the request id which is used in further requests"
   ]
  },
  {
   "cell_type": "code",
   "execution_count": null,
   "metadata": {},
   "outputs": [],
   "source": [
    "req = AnalysesRiskAPI.post_risk_model_request(risk_model_parameters=rms_parameters)\n",
    "requestId = int(req.headers[\"location\"].split(\"/\")[-1])"
   ]
  },
  {
   "cell_type": "markdown",
   "metadata": {},
   "source": [
    "The status of the request can be fetched using the request id. Once the request is completed the user can also access the logs for the same. "
   ]
  },
  {
   "cell_type": "code",
   "execution_count": null,
   "metadata": {},
   "outputs": [],
   "source": [
    "status = AnalysesRiskAPI.get_risk_model_request_status(requestId)\n",
    "\n",
    "logs = AnalysesRiskAPI.get_risk_model_logs(requestId)"
   ]
  },
  {
   "cell_type": "markdown",
   "metadata": {},
   "source": [
    "The user can get the results of the request using the request id. The user can choose the results to be in raw format or refined by changing the parameter show_raw_results in the request"
   ]
  },
  {
   "cell_type": "code",
   "execution_count": null,
   "metadata": {},
   "outputs": [],
   "source": [
    "results = AnalysesRiskAPI.get_risk_model_results(request_id=requestId, show_raw_results=False)"
   ]
  },
  {
   "cell_type": "markdown",
   "metadata": {},
   "source": [
    "The risk model data from the above step can also fetched in zipped format. "
   ]
  },
  {
   "cell_type": "code",
   "execution_count": null,
   "metadata": {},
   "outputs": [],
   "source": [
    "headers={\"Accept\":\"multipart/x-zip\"}\n",
    "raw_results = AnalysesRiskAPI.get_risk_model_results(request_id=requestId, headers=headers)"
   ]
  },
  {
   "cell_type": "markdown",
   "metadata": {},
   "source": [
    "This data can be extracted and saved to a local directory with a sample code below"
   ]
  },
  {
   "cell_type": "code",
   "execution_count": null,
   "metadata": {},
   "outputs": [],
   "source": [
    "import zipfile\n",
    "from io import BytesIO\n",
    "z = zipfile.ZipFile(BytesIO(raw_results.content))\n",
    "for name in z.namelist():\n",
    "    z.extract(name)"
   ]
  },
  {
   "cell_type": "markdown",
   "metadata": {},
   "source": [
    "## Accessing CEB Endpoints"
   ]
  },
  {
   "cell_type": "markdown",
   "metadata": {},
   "source": [
    "The users can access the endpoints of Axioma Client Event Bus API using axioma-py. Below is an example to get a collection of market data events using the API"
   ]
  },
  {
   "cell_type": "markdown",
   "metadata": {},
   "source": [
    "Create a session to access Client Event Bus endpoints"
   ]
  },
  {
   "cell_type": "code",
   "execution_count": null,
   "metadata": {},
   "outputs": [],
   "source": [
    "AxiomaSession.use_session(\n",
    "    username=user1['username'],\n",
    "    password=user1['password'],\n",
    "    domain=user1['domain'],\n",
    "    api_type=APIType.CEB\n",
    ")"
   ]
  },
  {
   "cell_type": "code",
   "execution_count": null,
   "metadata": {},
   "outputs": [],
   "source": [
    "market_data = ClientEventBusAPI.get_all_market_data()\n",
    "pprint(market_data.json())"
   ]
  }
 ],
 "metadata": {
  "language_info": {
   "name": "python"
  }
 },
 "nbformat": 4,
 "nbformat_minor": 4
}
