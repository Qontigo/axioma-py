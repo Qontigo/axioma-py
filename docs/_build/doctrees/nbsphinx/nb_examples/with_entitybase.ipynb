{
 "cells": [
  {
   "cell_type": "markdown",
   "metadata": {},
   "source": [
    "# CommonBase, EntityBase, TemplatedEntityBase, Enumbase and Collections\n",
    "\n",
    "The following examples illustrate the functionality and usage of the base classes in constructing classes to represent API entities.\n",
    "Unless contributing to the package this should be considered for information only and is not required to follow any other examples.\n",
    "\n",
    "\n",
    "## Overview\n",
    "\n",
    "The goal of the axiomapy package is to provide a set of classes and associated methods to faciliate working with REST API.\n",
    "The intended benefits and goals of this package are:  \n",
    "* to provide a more intuitive interface for users less familiar with the API to increase usage  \n",
    "* allow developers to work with json/dict representations interchangeably with instances where more convient  \n",
    "* improve the developer and API user's experience  \n",
    "* reduce dependancy on external documentation  \n",
    "* package more boiler plate code to reduce time to build applications  \n",
    "* include comprehesive examples/tutorials on usage  \n",
    "* include examples/art of the possible to help business users leverage the API or better understand the benefit  \n",
    "* be easy to collaborate on  \n",
    "\n",
    "\n",
    "The core functional requirements of the package are \n",
    "* to have classes that capture the models of the API  \n",
    "* supported nested models   \n",
    "* move from the class instances to the dict representations passed or returned by the API and vice versa seamlessly.  \n",
    "* support core user requirements; cloning, updating etc  \n",
    "* provide a developer experience consistent with the language requirements - e.g. snake casing/PEP8 etc  \n",
    "\n",
    "A series of 'abstract' base classes are used to provide this core functionality and should be sub-classed when creating an API model class.\n",
    "\n",
    "\n",
    "## Architecture/Design\n",
    "\n",
    "The sdk design has 4 distinct elements:  \n",
    "1. Session: Manages all http requests to the remote app and triggers serialisation/deserialisation. Leverages requests Session and so can use existing connection pools etc.   \n",
    "2. Context Manager: manages switching sessions between contexts (i.e. with blocks)  \n",
    "3. Axiomaapi: Interface to the RESTful API via the current Session  \n",
    "4. Entities: All the data models and methods associated with working with the remote resources. Any actions on resource resources are handled by the axioma api classes  \n",
    "\n",
    "For functional usage of the session/context refer to: [with_axiomaapi](./with_axiomaapi.ipynb)  \n",
    "For functional usage axiomaapi refer to: [with_sessions](./with_sessions.ipynb)  \n",
    "\n",
    "The remainder of this notebook considers the entities.\n",
    "\n",
    "There are various base classes, there are code examples of each below:  \n",
    "* EnumBase - provides features for enumerations such as creation from strings, case insensitivty etc.\n",
    "\n",
    "* CommonBase - Represents serialisable classes that are also cloneable.  \n",
    "    * Used for classes that do not need to initialise directly from a response but should serialise as part of a request.   \n",
    "    * For example used as a base class in collections where the collection is initialised from an iterable of representations rather than directly.\n",
    "\n",
    "* EntityBase(CommonBase) - apart from collections all classes subclass this abstract class.  \n",
    "    * Provides methods to serialise to and from dict  \n",
    "    * Provides methods to update/replace contents \n",
    "    * Provides dict like methods (get, update) and property/attribute access instance\\['property'\\], instance.property  \n",
    "    * Interrogates the subclass property's type hints to manage nested entities and special data types when serialising  \n",
    "    * Handles translation between datamodel naming conventions (camel case) to python/PEP8 (snake case)  \n",
    "\n",
    "* TemplatedEntityBase(EntityBase) - used for represent entities that are presented via templates  \n",
    "    * supports an explit mapping between class properties and the data model (template) \n",
    "    * supports direct access to the content attributes from the upper level class  \n",
    "\n",
    "* EntityCollectionBase - a common base class for collections of entities arguably redundant  \n",
    "\n",
    "* EntitySequence(MutableSequence\\[T\\], EntityCollectionBase) - Represents a non-keyed/mapped set of entities e.g. Identifiers  \n",
    "\n",
    "* EntityMapping(MutableMapping\\[str, T\\], EntityCollectionBase) - Represents a dict like mapping of entities e.g. Portfolios  \n",
    "\n",
    "Collections of entities could be managed reasonable easily with a simple list/dict but this would not support class methods\n",
    "However, since there value is not as great as other base classes they attempt to work interchangeably with list/tuple etc.\n"
   ]
  },
  {
   "cell_type": "markdown",
   "metadata": {},
   "source": [
    "## EnumBase\n",
    "\n",
    "Provides a common base for defining enumerations. Create a sample here for following examples.  \n",
    "The EnumBase class allows case insensitive intitialisation and will serialise to json (required for sending to requests) though this should not be required"
   ]
  },
  {
   "cell_type": "code",
   "execution_count": null,
   "metadata": {},
   "outputs": [],
   "source": [
    "from axiomapy.entitybase import EnumBase\n",
    "\n",
    "class SampleEnum(EnumBase):\n",
    "    Value1 = \"Value1\"\n",
    "    Value2 = \"Value2\"\n"
   ]
  },
  {
   "cell_type": "code",
   "execution_count": null,
   "metadata": {},
   "outputs": [],
   "source": [
    "enum = SampleEnum('Value1')\n",
    "enum = SampleEnum('value1')\n",
    "enum = SampleEnum('VALUE1')\n",
    "\n",
    "# access the value\n",
    "enum.value\n",
    "\n"
   ]
  },
  {
   "cell_type": "code",
   "execution_count": null,
   "metadata": {},
   "outputs": [],
   "source": [
    "# The enum class does not serialise to json. The Enumbase subclasses str so it will.\n",
    "# Since the enum will be identified and converted explicitly this should be unnecessary.\n",
    "import json\n",
    "test = {\"value\": enum}\n",
    "str_test = json.dumps(test)\n",
    "str_test"
   ]
  },
  {
   "cell_type": "markdown",
   "metadata": {},
   "source": [
    "## EntityBase\n",
    "\n",
    "Used in the representation of an API model.  \n",
    "Rules for subclassing:\n",
    "* The model is reflected by the properties.  \n",
    "* Type hints on the property getter help the class serialise properties correctly.\n",
    "* All access to the datamodel must be managed through the class properties.\n",
    "* All properties must be able to accept None (or the default value in the __init__ function if not None)\n",
    "* Decorators on the properties enable extra hints for serialisation to be passed from the model class.\n",
    "\n",
    "\n",
    "Create a sample class with properties of various types with the exception of those of type common base\n"
   ]
  },
  {
   "cell_type": "code",
   "execution_count": null,
   "metadata": {},
   "outputs": [],
   "source": [
    "from axiomapy.entitybase import EntityBase, camel_case_translate, do_not_clone, do_not_serialise, get_enum_value\n",
    "from axiomapy.utils import date_arg_fmt, date_arg_parse\n",
    "from typing import Union, List\n",
    "from datetime import datetime, date\n",
    "\n",
    "\n",
    "sample_entity_dict = {\n",
    "    \"id\":0,\n",
    "    \"date_field_str\": \"2020-05-10\",\n",
    "    \"date_field_date\":\"2020-05-10\",\n",
    "    \"date_field_datetime\":\"2020-05-10T00:00:00\",\n",
    "    \"enum_field\":\"value1\",\n",
    "    \"not_serialize_field\":\"Apples\"\n",
    "\n",
    "}\n",
    "\n",
    "\n",
    "class SampleEntity(EntityBase):\n",
    "    @camel_case_translate\n",
    "    def __init__(\n",
    "        self, \n",
    "        id_: int, \n",
    "        date_field_str: Union[datetime, str]=None,\n",
    "        date_field_date: Union[datetime, date, str]=None,\n",
    "        date_field_datetime: Union[datetime, str]=None,\n",
    "        enum_field: Union[SampleEnum, str]=None,  \n",
    "        not_serialize_field: str = None,\n",
    "    ):\n",
    "        super().__init__()\n",
    "        self.id = id_\n",
    "        self.date_field_str = date_field_str\n",
    "        self.date_field_date = date_field_date\n",
    "        self.date_field_datetime = date_field_datetime\n",
    "        self.enum_field = enum_field\n",
    "        self.not_serialize_field = not_serialize_field\n",
    "    \n",
    "    @property\n",
    "    @do_not_clone\n",
    "    def id(self) -> int:\n",
    "        return self._id\n",
    "    \n",
    "    @id.setter\n",
    "    def id(self, value: int):\n",
    "        self._id = value\n",
    "\n",
    "    @property\n",
    "    def date_field_str(self) -> str:\n",
    "        return self._date_field_str\n",
    "    \n",
    "    @date_field_str.setter\n",
    "    def date_field_str(self, value: Union[datetime, str]):\n",
    "        self._date_field_str = date_arg_fmt(value)\n",
    "\n",
    "    @property\n",
    "    def date_field_date(self) -> date:\n",
    "        return self._date_field_date\n",
    "    \n",
    "    @date_field_date.setter\n",
    "    def date_field_date(self, value: Union[datetime, date, str]):\n",
    "        self._date_field_date = date_arg_parse(value, format=\"%Y-%m-%d\") \n",
    "\n",
    "    @property\n",
    "    def date_field_datetime(self) -> datetime:\n",
    "        return self._date_field_datetime\n",
    "    \n",
    "    @date_field_datetime.setter\n",
    "    def date_field_datetime(self, value: Union[datetime, str]):\n",
    "        self._date_field_datetime = date_arg_parse(value, format=\"%Y-%m-%dT00:00:00\")\n",
    "\n",
    "    @property\n",
    "    def enum_field(self) -> SampleEnum:\n",
    "        return self._enum_field\n",
    "    \n",
    "    @enum_field.setter\n",
    "    def enum_field(self, value: Union[SampleEnum, str]):\n",
    "        self._enum_field = get_enum_value(SampleEnum, value)\n",
    "\n",
    "    @property\n",
    "    @do_not_serialise\n",
    "    def not_serialize_field(self) -> str:\n",
    "        return self._not_serialize_field\n",
    "    \n",
    "    @not_serialize_field.setter\n",
    "    def not_serialize_field(self, value:str):\n",
    "        self._not_serialize_field = value\n",
    "\n",
    "\n",
    "\n"
   ]
  },
  {
   "cell_type": "markdown",
   "metadata": {},
   "source": [
    "### Using the samples\n",
    "\n",
    "Create an instance directly. \n",
    "Translation of args to the __init__ method is performed by the camel_case_translate wrapper"
   ]
  },
  {
   "cell_type": "code",
   "execution_count": null,
   "metadata": {},
   "outputs": [],
   "source": [
    "# only required args\n",
    "new_sample = SampleEntity(100)\n",
    "# some optional args\n",
    "another_sample = SampleEntity(50, date_field_str=\"2020-05-10\", enum_field=SampleEnum.Value2)\n",
    "# camel case args\n",
    "camel_case_sample = SampleEntity(50, enumField=\"value1\", dateFieldDate=date.today())"
   ]
  },
  {
   "cell_type": "markdown",
   "metadata": {},
   "source": [
    "Create an instance from a dict representation"
   ]
  },
  {
   "cell_type": "code",
   "execution_count": null,
   "metadata": {},
   "outputs": [],
   "source": [
    "sample_from_dict = SampleEntity.from_dict(sample_entity_dict)"
   ]
  },
  {
   "cell_type": "markdown",
   "metadata": {},
   "source": [
    "Accessing properties\n",
    "\n",
    "Properties can be accessed via their camelCase or snake_case names.  \n",
    "They can also accessed as dictionary keys and the get() method"
   ]
  },
  {
   "cell_type": "code",
   "execution_count": null,
   "metadata": {},
   "outputs": [],
   "source": [
    "print(f\"new_sample has id: {new_sample.id}\")\n",
    "print(f\"another_sample has date: {another_sample.date_field_str}\")\n",
    "print(f\"another_sample date_field_str can also be accessed via dateFieldStr {another_sample.dateFieldStr}\")\n",
    "print(f\"entities can be accessed in snakecase or camel case like a dict {another_sample['dateFieldStr']}\"\n",
    "      f\" and with get method {another_sample.get('dateFieldStr')}\")"
   ]
  },
  {
   "cell_type": "markdown",
   "metadata": {},
   "source": [
    "#### How the accessors works\n",
    "\n",
    "When getting or setting a property the class property is resolved using the _translate_to_class_prop() method.\n",
    "The translation is automatic so the logic for translation exists on the base class.\n",
    "In the templatedEntity example the translation is class specific."
   ]
  },
  {
   "cell_type": "code",
   "execution_count": null,
   "metadata": {},
   "outputs": [],
   "source": [
    "print(f\"date_field_datetime maps to prop: {SampleEntity._translate_to_class_prop('date_field_datetime')}\")\n",
    "print(f\"dateFieldDatetime maps to prop: {EntityBase._translate_to_class_prop('dateFieldDatetime')}\")"
   ]
  },
  {
   "cell_type": "markdown",
   "metadata": {},
   "source": [
    "### Clone, Update and Replace\n",
    "\n",
    "#### Cloning\n",
    "\n",
    "Cloning creates a new instance based on the object being cloned.\n",
    "A clone is performed by converting to and from a dict representation and updating from the source instance."
   ]
  },
  {
   "cell_type": "code",
   "execution_count": null,
   "metadata": {},
   "outputs": [],
   "source": [
    "cloned_sample = sample_from_dict.clone()\n",
    "print(f\"The do_not_clone decorator on the id property means cloned_sample has an id of {cloned_sample.id}\")\n",
    "cloned_sample_2 = sample_from_dict.clone(enum_field=\"value2\")\n",
    "print(f\"overrides can be applied when cloning, cloned_sample_2 has enum_field of {cloned_sample_2.enum_field}\")"
   ]
  },
  {
   "cell_type": "markdown",
   "metadata": {},
   "source": [
    "#### Update \n",
    "\n",
    "Can update from a dict or from an instance. Works as for the dict method update"
   ]
  },
  {
   "cell_type": "code",
   "execution_count": null,
   "metadata": {},
   "outputs": [],
   "source": [
    "print(f\"cloned_sample.id before update {cloned_sample.id}\")\n",
    "cloned_sample.update({\"id\":100})\n",
    "print(f\"cloned_sample.id before update {cloned_sample.id}\")\n",
    "print(\"The full cloned_sample after update is:\\n\", cloned_sample_2)\n",
    "cloned_sample_2.update(sample_from_dict)\n",
    "print(\"The full cloned_sample_2 after update is:\\n\", cloned_sample_2)"
   ]
  },
  {
   "cell_type": "markdown",
   "metadata": {},
   "source": [
    "#### Replace\n",
    "\n",
    "The replace method makes the calling instance the same as the argument entity"
   ]
  },
  {
   "cell_type": "code",
   "execution_count": null,
   "metadata": {},
   "outputs": [],
   "source": [
    "cloned_sample_2.replace({\"id\":100})\n",
    "\n",
    "print(\"After replacing the sample is:\\n\", cloned_sample_2)"
   ]
  },
  {
   "cell_type": "markdown",
   "metadata": {},
   "source": [
    "### Serialization\n",
    "\n",
    "Objects are serialised to a dict object which is valid to serialize to json (e.g. by requests)\n",
    "\n",
    "Fields marked as do_not_serialize are ignored.\n",
    "\n",
    "The to_dict() method has the following args\n",
    "translate - output camelCase (otherwise snake_case)\n",
    "cloning - action performed as part of cloning will check for do_not_clone decorator\n",
    "ignore_none - do not serialise properties with a value of None (i.e. those not set)"
   ]
  },
  {
   "cell_type": "code",
   "execution_count": null,
   "metadata": {},
   "outputs": [],
   "source": [
    "sample_to_serialize = SampleEntity.from_dict(sample_entity_dict)\n",
    "\n",
    "print(sample_to_serialize.to_dict())\n",
    "# for example without translating\n",
    "print(sample_to_serialize.to_dict(translate=False))\n"
   ]
  },
  {
   "cell_type": "markdown",
   "metadata": {},
   "source": [
    "#### How Serialization works\n",
    "\n",
    "Only class properties are serialized. \n",
    "Specific ways to treat properties are indicated by their return type hints on the getter.\n",
    "Additional decorators add control\n",
    "\n",
    "There are a number of methods on the base class the show how the process works:"
   ]
  },
  {
   "cell_type": "code",
   "execution_count": null,
   "metadata": {},
   "outputs": [],
   "source": [
    "# show the properties that can be considered for serialization\n",
    "class_props = SampleEntity.class_properties()\n",
    "print(f\"The set of properties are: {', '.join(class_props)}\")"
   ]
  },
  {
   "cell_type": "markdown",
   "metadata": {},
   "source": [
    "The type of each property can be checked and then based on its type an action will be taken to prepare its value for serialisation:"
   ]
  },
  {
   "cell_type": "code",
   "execution_count": null,
   "metadata": {},
   "outputs": [],
   "source": [
    "prop_type_enums = [f\"prop: {prop} has type: {SampleEntity._get_prop_type(prop)}\" for prop in class_props]\n",
    "\n",
    "print(prop_type_enums)"
   ]
  },
  {
   "cell_type": "markdown",
   "metadata": {},
   "source": [
    "The following prop types are identified:\n",
    "* EnumType - will be converted as value.value\n",
    "* IterableEnumType - for each item converted as value.value\n",
    "* CommonBaseType - will call the to_dict() method\n",
    "* IterableCommonBaseType - for each item will call the to_dict() method\n",
    "* DictOfCommonBase - for each item in values() will call the to_dict() method\n",
    "* Date - will format to a str as yyyy-mm-dd using date_arg_fmt(value, format=\"%Y-%m-%d\")\n",
    "* DateTime - will format to a str as yyyy-mm-ddT00:00:00 using date_arg_fmt(value, format=\"%Y-%m-%dT00:00:00\")\n",
    "* OtherType - will return value unchanged."
   ]
  },
  {
   "cell_type": "markdown",
   "metadata": {},
   "source": [
    "### Nested Entities\n",
    "\n",
    "\n",
    "When the prop type is associated with a common base the entity of the property will itself be serialised"
   ]
  },
  {
   "cell_type": "code",
   "execution_count": null,
   "metadata": {},
   "outputs": [],
   "source": [
    "class NestedEntity(EntityBase):\n",
    "    def __init(\n",
    "        self,\n",
    "        inner_entity: Union[SampleEntity, dict] = None,\n",
    "        list_of_entities: List[Union[SampleEntity, dict]] = None\n",
    "    ):\n",
    "        self.inner_entity = inner_entity\n",
    "        self.list_of_entities = list_of_entities\n",
    "\n",
    "    @property\n",
    "    def inner_entity(self) -> SampleEntity:\n",
    "        return self._inner_entity\n",
    "\n",
    "    @inner_entity.setter\n",
    "    def inner_entity(self, value: Union[SampleEntity, dict]):\n",
    "        self._inner_entity = SampleEntity.get_as_instance(value)\n",
    "\n",
    "    @property\n",
    "    def list_of_entities(self) -> List[SampleEntity]:\n",
    "        return self._list_of_entities\n",
    "\n",
    "    @list_of_entities.setter\n",
    "    def list_of_entities(self, values: Union[SampleEntity, dict]):\n",
    "        if values is None:\n",
    "            self._list_of_entities = None\n",
    "        else:\n",
    "            self._list_of_entities = [SampleEntity.get_as_instance(value) for value in values]\n",
    "\n",
    "\n"
   ]
  },
  {
   "cell_type": "code",
   "execution_count": null,
   "metadata": {},
   "outputs": [],
   "source": [
    "nested_entity_dict = {\n",
    "    \"inner_entity\": {\n",
    "            \"id\":0,\n",
    "            \"date_field_str\": \"2020-05-10\",\n",
    "            \"date_field_date\":\"2020-05-10\",\n",
    "            \"date_field_datetime\":\"2020-05-10T00:00:00\",\n",
    "            \"enum_field\":\"value1\",\n",
    "            \"not_serialize_field\":\"Apples\"\n",
    "    },\n",
    "    \"list_of_entities\": [\n",
    "        {\n",
    "            \"id\":0,\n",
    "            \"date_field_str\": \"2020-05-10\",\n",
    "            \"date_field_date\":\"2020-05-10\",\n",
    "            \"date_field_datetime\":\"2020-05-10T00:00:00\",\n",
    "            \"enum_field\":\"value1\",\n",
    "            \"not_serialize_field\":\"Apples\"\n",
    "        }, \n",
    "        SampleEntity(id=5, not_serialize_field=\"Pears\")\n",
    "    ]\n",
    "}"
   ]
  },
  {
   "cell_type": "code",
   "execution_count": null,
   "metadata": {},
   "outputs": [],
   "source": [
    "\n",
    "\n",
    "nested_entity1 = NestedEntity.from_dict(nested_entity_dict)\n",
    "\n",
    "nested_entity2 = NestedEntity(\n",
    "    inner_entity=SampleEntity(\n",
    "        id=100, \n",
    "        date_field_str=\"2020-05-10\"\n",
    "    ), \n",
    "    list_of_entities = [\n",
    "        SampleEntity(id=99, not_serialize_field=\"Cheese\"),\n",
    "        {\"id\": 5}\n",
    "    ]\n",
    ")"
   ]
  },
  {
   "cell_type": "code",
   "execution_count": null,
   "metadata": {},
   "outputs": [],
   "source": [
    "from pprint import pprint\n",
    "print(\"The nested entities behave as any other entity e.g. translating\")\n",
    "pprint(nested_entity1.to_dict())"
   ]
  },
  {
   "cell_type": "markdown",
   "metadata": {},
   "source": [
    "## TemplatedEntityBase\n",
    "\n",
    "Entities that are accessible via templates need extra logic to work as a classed based instances.\n",
    "Instruments and Stats (View column/levels) use this base class.  \n",
    "\n",
    "The key challenges are:   \n",
    "The data model is user definable and does not need to follow any naming standards or conventions.  \n",
    "Types have to be determined at run time - for example view columns.  \n",
    "The properties of interest are nested in the 'content' property but this would introduce an cumbersome 'middle' layer data model.   \n",
    "\n",
    "\n",
    "The TemplatedEntityBase class subclasses the EntityBase but defines class attributes for the template name and type and a custom to_dict()  \n",
    "method to serialise the properties into a 'content' property.\n",
    "\n"
   ]
  },
  {
   "cell_type": "code",
   "execution_count": null,
   "metadata": {},
   "outputs": [],
   "source": [
    "from axiomapy.entitybase import TemplatedEntityBase\n",
    "from typing import List, Tuple\n",
    "\n",
    "\n",
    "class SampleTemplatedEntity(TemplatedEntityBase):\n",
    "    \"\"\"A base class for creating templated entities\n",
    "    The two properties _TEMPLATE_NAME and _TEMPLATE_MAPPING should be set in the sub\n",
    "    class. The _TEMPLATE_MAPPING should be a list of tuples listing the class properties\n",
    "    that are part of the content section and the mapping between the model and the\n",
    "    class props within the content property like\n",
    "    [(model_prop_name, class_prop_name ), ..]\n",
    "\n",
    "    \"\"\"\n",
    "\n",
    "    _TEMPLATE_NAME: str = \"Some_Template\"\n",
    "    _TEMPLATE_MAPPING: List[Tuple[str, str]] = [\n",
    "        (\"Name\", \"name\"),\n",
    "        (\"template prop name\", \"class_prop_name\") \n",
    "    ]\n",
    "\n",
    "    def __init__(self, name: str, class_prop_value: str):\n",
    "        super().__init__()\n",
    "        self.name = name\n",
    "        self.class_prop_name = class_prop_value\n",
    "\n",
    "    @property\n",
    "    def class_prop_name(self,) -> str:\n",
    "        return self._class_prop_name\n",
    "\n",
    "    @class_prop_name.setter\n",
    "    def class_prop_name(self, value: str):\n",
    "        self._class_prop_name = value\n"
   ]
  },
  {
   "cell_type": "code",
   "execution_count": null,
   "metadata": {},
   "outputs": [],
   "source": [
    "entity_def = {\n",
    "  \"templateName\": \"Some_Template\",\n",
    "  \"content\": {\n",
    "    \"Name\": \"Instance Name\",\n",
    "    \"template prop name\": \"prop value\",\n",
    "  }\n",
    "}\n",
    "\n",
    "# the content properties are passed through\n",
    "entity = SampleTemplatedEntity.from_dict(entity_def)\n",
    "\n",
    "# they can be accessed directly in either class or data model name\n",
    "entity.class_prop_name = \"another value\"\n",
    "entity['template prop name'] = \"different value\"\n",
    "\n",
    "# can also access content\n",
    "content = entity.content\n",
    "\n",
    "# when serialising the properties are hidden at the class level \n",
    "# and exposed under content\n",
    "entity.to_dict()"
   ]
  },
  {
   "cell_type": "markdown",
   "metadata": {},
   "source": [
    "As the templated entity defines the template and therefore the data model, an attempt to initialise with a different template name will fail\n"
   ]
  },
  {
   "cell_type": "code",
   "execution_count": null,
   "metadata": {},
   "outputs": [],
   "source": [
    "entity_def['templateName'] = \"A different template name\"\n",
    "try:\n",
    "    entity2 = SampleTemplatedEntity.from_dict(entity_def)\n",
    "except ValueError as e:\n",
    "    print(f\"Exception:\\n{e}\")\n"
   ]
  },
  {
   "cell_type": "markdown",
   "metadata": {},
   "source": [
    "For the scope of insturments the template type can be considered to be known via the user.\n",
    "In the case of view column stats an unknown collection of stat templates may be associated with the view.\n",
    "Therefore two distinct classes help create instances from dictionary. \n",
    "* A generic stat exists in which the template name and content properties are set at run time, it allows property access but no intellisense.\n",
    "* A StatFactory is used to create a relevant instance based on the template name in the dict definition and will return a generic stat if required.\n",
    "\n",
    "\n",
    "\n"
   ]
  },
  {
   "cell_type": "markdown",
   "metadata": {},
   "source": [
    "## Generic Collections - Mapping and List\n",
    "\n",
    "Some of the models define collections of entities - Portfolios, Positions, StatisticDefintions, Identifiers etc.\n",
    "\n",
    "While Lists of entities are equally supported having collection type base classes offers the opportunity to add some contextual methods.\n",
    "The primary benefit is to provide a to_dict and clone method directly (rather than iterating and applying on each entity) subclasses of CommonBase.\n",
    "A secondary benefit is specifically for mapping type collections to offer the ability to reflect the applications mapping logic.\n",
    "As an example AnalysisDefinitions are keys on a tuple of name, owner and team. Portfolios on Name.\n",
    "\n",
    "(see also [https://docs.python.org/3/library/collections.abc.html])\n",
    "\n",
    "Collections can receive dictionary or classes of the member instances.\n",
    "\n",
    "\n",
    "### MutableSequence\n",
    "\n",
    "Lists of entites that do not map to an identifier or a 'key'. Examples of these are Identifers, Qualifiers.\n",
    "\n",
    "\n",
    "### MutableMapping\n",
    "\n",
    "A mapping (dict) type for entities that can be uniquely identified by some key e.g. Portfolios (name), Positions (clientId), AnalsysisDefinitions(name, owner, team) \n",
    "The subclass defines how to create a unique key from the entity instance\n",
    "\n"
   ]
  },
  {
   "cell_type": "code",
   "execution_count": null,
   "metadata": {},
   "outputs": [],
   "source": [
    "from axiomapy.entitybase import EntitySequence, EntityMapping\n",
    "from typing import Union, Iterable"
   ]
  },
  {
   "cell_type": "code",
   "execution_count": null,
   "metadata": {},
   "outputs": [],
   "source": [
    "class SampleEntityList(EntitySequence[SampleEntity]):\n",
    "    def __init__(self, entities: Iterable[Union[SampleEntity, dict]]=[]):\n",
    "        super().__init__(\n",
    "            (SampleEntity.get_as_instance(i) for i in self._get_as_iter(entities)),\n",
    "            SampleEntity,\n",
    "        )\n",
    "\n",
    "\n",
    "\n",
    "\n",
    "\n",
    "\n",
    "\n"
   ]
  },
  {
   "cell_type": "code",
   "execution_count": null,
   "metadata": {},
   "outputs": [],
   "source": [
    "class SampleEntityMapping(EntityMapping[SampleEntity]):\n",
    "    def __init__(self, entities: Iterable[Union[SampleEntity, dict]]=[]):\n",
    "        super().__init__(\n",
    "            (self._make_key(i) for i in entities),\n",
    "            (SampleEntity.get_as_instance(i) for i in entities),\n",
    "            SampleEntity,\n",
    "        )\n",
    "\n",
    "    def _make_key(self, entity):\n",
    "        return entity.get(\"id\")"
   ]
  },
  {
   "cell_type": "markdown",
   "metadata": {},
   "source": [
    "### Populating the collections  \n",
    "\n",
    "The collections are populated from iterables of instances or dictionary representations.  \n",
    "In the example below the mapping contains only two entries as it is keyed on the id and two entities have an id of 0."
   ]
  },
  {
   "cell_type": "code",
   "execution_count": null,
   "metadata": {},
   "outputs": [],
   "source": [
    "sample_entities = [\n",
    "    {\n",
    "    \"id\":0,\n",
    "    \"date_field_str\": \"2020-05-10\",\n",
    "    \"date_field_date\":\"2020-05-10\",\n",
    "    \"date_field_datetime\":\"2020-05-10T00:00:00\",\n",
    "    \"enum_field\":\"value1\",\n",
    "    \"not_serialize_field\":\"Apples\"\n",
    "\n",
    "},\n",
    "{\n",
    "    \"id\":0,\n",
    "    \"date_field_str\": \"2020-05-10\",\n",
    "    \"date_field_date\":\"2020-05-10\",\n",
    "    \"date_field_datetime\":\"2020-05-10T00:00:00\",\n",
    "    \"enum_field\":\"value1\",\n",
    "    \"not_serialize_field\":\"Apples\"\n",
    "\n",
    "},\n",
    "SampleEntity(id_=3)\n",
    "\n",
    "\n",
    "\n",
    "]"
   ]
  },
  {
   "cell_type": "code",
   "execution_count": null,
   "metadata": {},
   "outputs": [],
   "source": [
    "list_of_entities = SampleEntityList(sample_entities)\n",
    "print(f\"There are {len(list_of_entities)} in the sequence.\")\n",
    "\n",
    "map_of_entities = SampleEntityMapping(sample_entities)\n",
    "print(f\"There are {len(map_of_entities)} in the sequence.\")\n"
   ]
  },
  {
   "cell_type": "code",
   "execution_count": null,
   "metadata": {},
   "outputs": [],
   "source": [
    "pprint(map_of_entities.to_dict())"
   ]
  },
  {
   "cell_type": "code",
   "execution_count": null,
   "metadata": {},
   "outputs": [],
   "source": []
  }
 ],
 "metadata": {
  "language_info": {
   "name": "python"
  }
 },
 "nbformat": 4,
 "nbformat_minor": 2
}
