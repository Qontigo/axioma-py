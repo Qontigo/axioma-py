{
 "cells": [
  {
   "cell_type": "markdown",
   "metadata": {},
   "source": [
    "# Axiomasessions \n",
    "\n",
    "Sample code for how to create and manage sessions for accessing the axioma api  \n",
    "An Axiomasession provides a global session context that, when authenticated, will be used to run any api queries.  \n",
    "The global or current session can be changed and set at any time by accessing the current property of the AxiomaSession class.\n",
    "\n",
    "We will use the following methods:  \n",
    "**get_session()** -> returns an uninitialised  \n",
    "**init()** -> authenticates a session  \n",
    "**use_session()** -> will get and init a session that is set as the current session"
   ]
  },
  {
   "cell_type": "markdown",
   "metadata": {},
   "source": [
    "### Imports  \n",
    "\n",
    "Use the AxiomaSession"
   ]
  },
  {
   "cell_type": "code",
   "execution_count": null,
   "metadata": {},
   "outputs": [],
   "source": [
    "from axiomapy import AxiomaSession"
   ]
  },
  {
   "cell_type": "markdown",
   "metadata": {},
   "source": [
    "### Optional logging"
   ]
  },
  {
   "cell_type": "code",
   "execution_count": null,
   "metadata": {},
   "outputs": [],
   "source": [
    "import logging\n",
    "logging.basicConfig(level=logging.INFO, \n",
    "                    format='%(asctime)s %(levelname)-8s %(message)s', \n",
    "                    datefmt='%Y-%m-%d %H:%M:%S')"
   ]
  },
  {
   "cell_type": "markdown",
   "metadata": {},
   "source": [
    "### Credentials  \n",
    "Load up some credentials to work with (there is a sample.credentials.yaml in the ./examples/credentials folder copy this file to credentials.yaml and update the values for the 3 users to run this example. Alternatively skip the next set of code and set the credentials directly in the code below):"
   ]
  },
  {
   "cell_type": "code",
   "execution_count": null,
   "metadata": {},
   "outputs": [],
   "source": [
    "\n",
    "# Load credentials from file \n",
    "from load_credentials import get_user\n",
    "user1 =  get_user('user1')\n",
    "user2 = get_user('user2')\n",
    "user3 = get_user('user3')\n"
   ]
  },
  {
   "cell_type": "markdown",
   "metadata": {},
   "source": [
    "### Activating a session  \n",
    "\n",
    "Create, initialise and set a session. The active session can be get/set through the current property."
   ]
  },
  {
   "cell_type": "code",
   "execution_count": null,
   "metadata": {},
   "outputs": [],
   "source": [
    "# Get and use a session.\n",
    "AxiomaSession.use_session(user1['username'], user1['password'], user1['domain'])\n",
    "me = AxiomaSession.current.test()\n",
    "\n",
    "# access the context's current session\n",
    "user1_session = AxiomaSession.current\n",
    "me1 = user1_session.test()"
   ]
  },
  {
   "cell_type": "markdown",
   "metadata": {},
   "source": [
    "Activate session using speicifc client id"
   ]
  },
  {
   "cell_type": "code",
   "execution_count": null,
   "metadata": {},
   "outputs": [],
   "source": [
    "AxiomaSession.use_session(user1['username'], user1['password'], user1['domain'], user1['client_id'])\n",
    "me = AxiomaSession.current.test()"
   ]
  },
  {
   "cell_type": "markdown",
   "metadata": {},
   "source": [
    "### Contexts\n",
    "  \n",
    "Different sessions can be used under different contexts using with blocks.  \n",
    "The **get_session()** method gets a new session that can be initialised when entering a new context.  \n",
    "If the session was initialised before entering the context it will not be closed when leaving (see session 2 below)\n",
    "Using contexts allows moving data/entities between sessions."
   ]
  },
  {
   "cell_type": "code",
   "execution_count": null,
   "metadata": {},
   "outputs": [],
   "source": [
    "user2_session = AxiomaSession.get_session(user2['username'], user2['password'], user2['domain'])\n",
    "# initialise the session if it is to be used outside the context. Otherwise the session will be open (init) and closed for the context and will require\n",
    "# init to be called again\n",
    "user2_session.init()\n",
    "# make a request with this session\n",
    "with user2_session:\n",
    "    print(\"Running test - should be connection 2\")\n",
    "    me2 = AxiomaSession.current.test()\n",
    "    with AxiomaSession.get_session(user3['username'], user3['password'], user3['domain']):\n",
    "        print(\"Running test - should be connection 3\")\n",
    "        me3 = AxiomaSession.current.test()\n",
    "    print(\"Running test - should be connection 2\")\n",
    "    me2_check = AxiomaSession.current.test()\n",
    "    assert me2.get('userLogin') == me2_check.get('userLogin')\n",
    "\n",
    "\n",
    "# check the global context is session1\n",
    "print(\"Running test - should be connection 1\")\n",
    "me1_check = AxiomaSession.current.test()\n",
    "assert me1.get('userLogin') == me1_check.get('userLogin')"
   ]
  },
  {
   "cell_type": "markdown",
   "metadata": {},
   "source": [
    "### Switching sessions in the context manually  \n",
    "\n",
    "The global context session can be specified as needed.  \n",
    "\n"
   ]
  },
  {
   "cell_type": "code",
   "execution_count": null,
   "metadata": {},
   "outputs": [],
   "source": [
    "# Set the session to user 2 (will also need to init again as it was closed by the with block)\n",
    "AxiomaSession.current = user2_session\n",
    "print(\"Running test - should be connection 2\")\n",
    "me2_check = AxiomaSession.current.test()\n",
    "assert me2.get('userLogin') == me2_check.get('userLogin')\n",
    "\n",
    "# Set back to the original session\n",
    "AxiomaSession.current = user1_session\n",
    "print(\"Running test - should be connection 1\")\n",
    "me1_check = AxiomaSession.current.test()\n",
    "assert me1.get('userLogin') == me1_check.get('userLogin')\n"
   ]
  },
  {
   "cell_type": "code",
   "execution_count": null,
   "metadata": {},
   "outputs": [],
   "source": [
    "print(\"Closing open sessions\")\n",
    "user2_session.close()\n",
    "user1_session.close()\n",
    "print(\"Finished\")"
   ]
  }
 ],
 "metadata": {
  "language_info": {
   "name": "python"
  }
 },
 "nbformat": 4,
 "nbformat_minor": 2
}
